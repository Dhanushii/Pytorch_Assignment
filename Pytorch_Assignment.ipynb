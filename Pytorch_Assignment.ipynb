{
  "nbformat": 4,
  "nbformat_minor": 0,
  "metadata": {
    "colab": {
      "provenance": []
    },
    "kernelspec": {
      "name": "python3",
      "display_name": "Python 3"
    },
    "language_info": {
      "name": "python"
    }
  },
  "cells": [
    {
      "cell_type": "code",
      "execution_count": 1,
      "metadata": {
        "id": "_48AzkBmzlP-"
      },
      "outputs": [],
      "source": [
        "import torch\n",
        "import torch.nn as nn\n",
        "import torch.optim as optim\n",
        "import torchvision\n",
        "import torchvision.transforms as transforms"
      ]
    },
    {
      "cell_type": "code",
      "source": [
        "batch_size = 64\n",
        "learning_rate = 0.001\n",
        "num_epochs = 10"
      ],
      "metadata": {
        "id": "DMQyHax40I7l"
      },
      "execution_count": 2,
      "outputs": []
    },
    {
      "cell_type": "code",
      "source": [
        "transform = transforms.Compose([transforms.ToTensor(), transforms.Normalize((0.5,), (0.5,))])\n",
        "train_dataset = torchvision.datasets.MNIST(root='./data', train=True, transform=transform, download=True)\n",
        "train_loader = torch.utils.data.DataLoader(dataset=train_dataset, batch_size=batch_size, shuffle=True)\n"
      ],
      "metadata": {
        "colab": {
          "base_uri": "https://localhost:8080/"
        },
        "id": "WvyAaC880JQ3",
        "outputId": "6f568b72-efd7-4a1f-edbd-acda8b295466"
      },
      "execution_count": 3,
      "outputs": [
        {
          "output_type": "stream",
          "name": "stdout",
          "text": [
            "Downloading http://yann.lecun.com/exdb/mnist/train-images-idx3-ubyte.gz\n",
            "Downloading http://yann.lecun.com/exdb/mnist/train-images-idx3-ubyte.gz to ./data/MNIST/raw/train-images-idx3-ubyte.gz\n"
          ]
        },
        {
          "output_type": "stream",
          "name": "stderr",
          "text": [
            "100%|██████████| 9912422/9912422 [00:00<00:00, 101738172.74it/s]\n"
          ]
        },
        {
          "output_type": "stream",
          "name": "stdout",
          "text": [
            "Extracting ./data/MNIST/raw/train-images-idx3-ubyte.gz to ./data/MNIST/raw\n",
            "\n",
            "Downloading http://yann.lecun.com/exdb/mnist/train-labels-idx1-ubyte.gz\n",
            "Downloading http://yann.lecun.com/exdb/mnist/train-labels-idx1-ubyte.gz to ./data/MNIST/raw/train-labels-idx1-ubyte.gz\n"
          ]
        },
        {
          "output_type": "stream",
          "name": "stderr",
          "text": [
            "100%|██████████| 28881/28881 [00:00<00:00, 34799107.68it/s]"
          ]
        },
        {
          "output_type": "stream",
          "name": "stdout",
          "text": [
            "Extracting ./data/MNIST/raw/train-labels-idx1-ubyte.gz to ./data/MNIST/raw\n",
            "\n",
            "Downloading http://yann.lecun.com/exdb/mnist/t10k-images-idx3-ubyte.gz\n",
            "Downloading http://yann.lecun.com/exdb/mnist/t10k-images-idx3-ubyte.gz to ./data/MNIST/raw/t10k-images-idx3-ubyte.gz\n"
          ]
        },
        {
          "output_type": "stream",
          "name": "stderr",
          "text": [
            "\n",
            "100%|██████████| 1648877/1648877 [00:00<00:00, 26081660.70it/s]\n"
          ]
        },
        {
          "output_type": "stream",
          "name": "stdout",
          "text": [
            "Extracting ./data/MNIST/raw/t10k-images-idx3-ubyte.gz to ./data/MNIST/raw\n",
            "\n",
            "Downloading http://yann.lecun.com/exdb/mnist/t10k-labels-idx1-ubyte.gz\n",
            "Downloading http://yann.lecun.com/exdb/mnist/t10k-labels-idx1-ubyte.gz to ./data/MNIST/raw/t10k-labels-idx1-ubyte.gz\n"
          ]
        },
        {
          "output_type": "stream",
          "name": "stderr",
          "text": [
            "100%|██████████| 4542/4542 [00:00<00:00, 2565727.78it/s]\n"
          ]
        },
        {
          "output_type": "stream",
          "name": "stdout",
          "text": [
            "Extracting ./data/MNIST/raw/t10k-labels-idx1-ubyte.gz to ./data/MNIST/raw\n",
            "\n"
          ]
        }
      ]
    },
    {
      "cell_type": "code",
      "source": [
        "# Define the neural network\n",
        "class NeuralNetwork(nn.Module):\n",
        "    def __init__(self):\n",
        "        super(NeuralNetwork, self).__init__()\n",
        "        self.flatten = nn.Flatten()\n",
        "        self.linear_relu_stack = nn.Sequential(\n",
        "            nn.Linear(28 * 28, 512),\n",
        "            nn.ReLU(),\n",
        "            nn.Linear(512, 256),\n",
        "            nn.ReLU(),\n",
        "            nn.Linear(256, 10)\n",
        "        )\n",
        "\n",
        "    def forward(self, x):\n",
        "        x = self.flatten(x)\n",
        "        logits = self.linear_relu_stack(x)\n",
        "        return logits"
      ],
      "metadata": {
        "id": "CCcpLa1f0UWf"
      },
      "execution_count": 4,
      "outputs": []
    },
    {
      "cell_type": "code",
      "source": [
        "# Initialize the model\n",
        "model = NeuralNetwork()\n",
        "\n",
        "# Loss function and optimizer\n",
        "criterion = nn.CrossEntropyLoss()\n",
        "optimizer = optim.Adam(model.parameters(), lr=learning_rate)\n"
      ],
      "metadata": {
        "id": "FAgZYoxF0Zs5"
      },
      "execution_count": 5,
      "outputs": []
    },
    {
      "cell_type": "code",
      "source": [
        "for epoch in range(num_epochs):\n",
        "    for batch, (images, labels) in enumerate(train_loader):\n",
        "        # Forward pass\n",
        "        outputs = model(images)\n",
        "        loss = criterion(outputs, labels)\n",
        "\n",
        "        # Backpropagation and optimization\n",
        "        optimizer.zero_grad()\n",
        "        loss.backward()\n",
        "        optimizer.step()\n",
        "\n",
        "        if (batch+1) % 100 == 0:\n",
        "            print(f\"Epoch [{epoch+1}/{num_epochs}], Batch [{batch+1}/{len(train_loader)}], Loss: {loss.item():.4f}\")\n",
        "\n",
        "print(\"Training finished.\")"
      ],
      "metadata": {
        "colab": {
          "base_uri": "https://localhost:8080/"
        },
        "id": "TOwDLPCY0dyn",
        "outputId": "614a40c9-c05f-44f1-93e5-1ecd6e27ca9a"
      },
      "execution_count": 6,
      "outputs": [
        {
          "output_type": "stream",
          "name": "stdout",
          "text": [
            "Epoch [1/10], Batch [100/938], Loss: 0.5929\n",
            "Epoch [1/10], Batch [200/938], Loss: 0.2216\n",
            "Epoch [1/10], Batch [300/938], Loss: 0.2440\n",
            "Epoch [1/10], Batch [400/938], Loss: 0.1464\n",
            "Epoch [1/10], Batch [500/938], Loss: 0.3166\n",
            "Epoch [1/10], Batch [600/938], Loss: 0.1487\n",
            "Epoch [1/10], Batch [700/938], Loss: 0.1366\n",
            "Epoch [1/10], Batch [800/938], Loss: 0.1952\n",
            "Epoch [1/10], Batch [900/938], Loss: 0.1127\n",
            "Epoch [2/10], Batch [100/938], Loss: 0.1070\n",
            "Epoch [2/10], Batch [200/938], Loss: 0.3021\n",
            "Epoch [2/10], Batch [300/938], Loss: 0.1257\n",
            "Epoch [2/10], Batch [400/938], Loss: 0.0991\n",
            "Epoch [2/10], Batch [500/938], Loss: 0.1465\n",
            "Epoch [2/10], Batch [600/938], Loss: 0.0554\n",
            "Epoch [2/10], Batch [700/938], Loss: 0.0509\n",
            "Epoch [2/10], Batch [800/938], Loss: 0.0729\n",
            "Epoch [2/10], Batch [900/938], Loss: 0.0478\n",
            "Epoch [3/10], Batch [100/938], Loss: 0.1176\n",
            "Epoch [3/10], Batch [200/938], Loss: 0.0969\n",
            "Epoch [3/10], Batch [300/938], Loss: 0.0966\n",
            "Epoch [3/10], Batch [400/938], Loss: 0.1149\n",
            "Epoch [3/10], Batch [500/938], Loss: 0.0568\n",
            "Epoch [3/10], Batch [600/938], Loss: 0.1015\n",
            "Epoch [3/10], Batch [700/938], Loss: 0.0740\n",
            "Epoch [3/10], Batch [800/938], Loss: 0.0395\n",
            "Epoch [3/10], Batch [900/938], Loss: 0.0196\n",
            "Epoch [4/10], Batch [100/938], Loss: 0.0445\n",
            "Epoch [4/10], Batch [200/938], Loss: 0.0844\n",
            "Epoch [4/10], Batch [300/938], Loss: 0.0895\n",
            "Epoch [4/10], Batch [400/938], Loss: 0.0348\n",
            "Epoch [4/10], Batch [500/938], Loss: 0.0786\n",
            "Epoch [4/10], Batch [600/938], Loss: 0.1610\n",
            "Epoch [4/10], Batch [700/938], Loss: 0.1270\n",
            "Epoch [4/10], Batch [800/938], Loss: 0.0400\n",
            "Epoch [4/10], Batch [900/938], Loss: 0.1162\n",
            "Epoch [5/10], Batch [100/938], Loss: 0.0061\n",
            "Epoch [5/10], Batch [200/938], Loss: 0.0360\n",
            "Epoch [5/10], Batch [300/938], Loss: 0.1774\n",
            "Epoch [5/10], Batch [400/938], Loss: 0.0838\n",
            "Epoch [5/10], Batch [500/938], Loss: 0.0974\n",
            "Epoch [5/10], Batch [600/938], Loss: 0.0530\n",
            "Epoch [5/10], Batch [700/938], Loss: 0.2612\n",
            "Epoch [5/10], Batch [800/938], Loss: 0.0090\n",
            "Epoch [5/10], Batch [900/938], Loss: 0.1034\n",
            "Epoch [6/10], Batch [100/938], Loss: 0.0520\n",
            "Epoch [6/10], Batch [200/938], Loss: 0.0082\n",
            "Epoch [6/10], Batch [300/938], Loss: 0.0548\n",
            "Epoch [6/10], Batch [400/938], Loss: 0.0369\n",
            "Epoch [6/10], Batch [500/938], Loss: 0.0950\n",
            "Epoch [6/10], Batch [600/938], Loss: 0.0134\n",
            "Epoch [6/10], Batch [700/938], Loss: 0.0283\n",
            "Epoch [6/10], Batch [800/938], Loss: 0.0989\n",
            "Epoch [6/10], Batch [900/938], Loss: 0.0385\n",
            "Epoch [7/10], Batch [100/938], Loss: 0.0357\n",
            "Epoch [7/10], Batch [200/938], Loss: 0.0189\n",
            "Epoch [7/10], Batch [300/938], Loss: 0.0049\n",
            "Epoch [7/10], Batch [400/938], Loss: 0.0467\n",
            "Epoch [7/10], Batch [500/938], Loss: 0.0021\n",
            "Epoch [7/10], Batch [600/938], Loss: 0.0989\n",
            "Epoch [7/10], Batch [700/938], Loss: 0.0101\n",
            "Epoch [7/10], Batch [800/938], Loss: 0.1203\n",
            "Epoch [7/10], Batch [900/938], Loss: 0.0229\n",
            "Epoch [8/10], Batch [100/938], Loss: 0.0175\n",
            "Epoch [8/10], Batch [200/938], Loss: 0.0090\n",
            "Epoch [8/10], Batch [300/938], Loss: 0.0719\n",
            "Epoch [8/10], Batch [400/938], Loss: 0.0353\n",
            "Epoch [8/10], Batch [500/938], Loss: 0.0226\n",
            "Epoch [8/10], Batch [600/938], Loss: 0.0996\n",
            "Epoch [8/10], Batch [700/938], Loss: 0.0670\n",
            "Epoch [8/10], Batch [800/938], Loss: 0.0194\n",
            "Epoch [8/10], Batch [900/938], Loss: 0.0890\n",
            "Epoch [9/10], Batch [100/938], Loss: 0.0264\n",
            "Epoch [9/10], Batch [200/938], Loss: 0.0145\n",
            "Epoch [9/10], Batch [300/938], Loss: 0.0195\n",
            "Epoch [9/10], Batch [400/938], Loss: 0.0070\n",
            "Epoch [9/10], Batch [500/938], Loss: 0.0181\n",
            "Epoch [9/10], Batch [600/938], Loss: 0.0025\n",
            "Epoch [9/10], Batch [700/938], Loss: 0.0556\n",
            "Epoch [9/10], Batch [800/938], Loss: 0.0193\n",
            "Epoch [9/10], Batch [900/938], Loss: 0.0882\n",
            "Epoch [10/10], Batch [100/938], Loss: 0.0048\n",
            "Epoch [10/10], Batch [200/938], Loss: 0.0427\n",
            "Epoch [10/10], Batch [300/938], Loss: 0.0464\n",
            "Epoch [10/10], Batch [400/938], Loss: 0.0244\n",
            "Epoch [10/10], Batch [500/938], Loss: 0.0405\n",
            "Epoch [10/10], Batch [600/938], Loss: 0.0094\n",
            "Epoch [10/10], Batch [700/938], Loss: 0.0026\n",
            "Epoch [10/10], Batch [800/938], Loss: 0.0492\n",
            "Epoch [10/10], Batch [900/938], Loss: 0.0205\n",
            "Training finished.\n"
          ]
        }
      ]
    }
  ]
}